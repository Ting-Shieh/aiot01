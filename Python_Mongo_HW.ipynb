{
 "cells": [
  {
   "cell_type": "markdown",
   "metadata": {},
   "source": [
    "# 作業： 使用 Python 操作 MongoDB"
   ]
  },
  {
   "cell_type": "markdown",
   "metadata": {},
   "source": [
    "# [作業目標]\n",
    "* 能夠使用 Python 對 MongoDB 的資料進行增刪改查操作。\n",
    "* 使用 Robo 3T 工具查看資料。"
   ]
  },
  {
   "cell_type": "markdown",
   "metadata": {},
   "source": [
    "# [作業重點]\n",
    "* 執行程式前，MongoDB Server 記得要先開啟。\n",
    "* 若 DB、Collection 原本不存在，則直到有第一筆資料 insert 進去，才會真的建立 DB 及 Collection"
   ]
  },
  {
   "cell_type": "markdown",
   "metadata": {},
   "source": [
    "# 作業1\n",
    "* 建立 DB 及 Collection (名稱自訂)，使用 Python 取得連線。"
   ]
  },
  {
   "cell_type": "markdown",
   "metadata": {},
   "source": [
    "# 作業2\n",
    "* 使用 Python 操作 Mongo 中的資料。"
   ]
  },
  {
   "cell_type": "code",
   "execution_count": 1,
   "metadata": {},
   "outputs": [],
   "source": [
    "from pymongo import MongoClient"
   ]
  },
  {
   "cell_type": "code",
   "execution_count": 2,
   "metadata": {},
   "outputs": [],
   "source": [
    "# connection server\n",
    "client = MongoClient(host='127.0.0.1',port=27017)"
   ]
  },
  {
   "cell_type": "code",
   "execution_count": 3,
   "metadata": {},
   "outputs": [],
   "source": [
    "# connection to db\n",
    "db = client['aiot_hw']"
   ]
  },
  {
   "cell_type": "code",
   "execution_count": 4,
   "metadata": {},
   "outputs": [],
   "source": [
    "# asign collection\n",
    "collection = db['Member']"
   ]
  },
  {
   "cell_type": "code",
   "execution_count": 15,
   "metadata": {},
   "outputs": [],
   "source": [
    "# search age\n",
    "result = collection.find().sort('age', 1)\n",
    "# result = collection.find()"
   ]
  },
  {
   "cell_type": "code",
   "execution_count": 16,
   "metadata": {},
   "outputs": [
    {
     "name": "stdout",
     "output_type": "stream",
     "text": [
      "{'_id': ObjectId('5fe8b0f892b98fac06746af6'), 'name': 'Ken', 'email': 'ken@abc.com', 'phone': '0911456852', 'age': 27}\n",
      "{'_id': ObjectId('5fe8b16392b98fac06746b2e'), 'name': 'ken@abc.com', 'phone': '0956874253', 'age': 27}\n"
     ]
    }
   ],
   "source": [
    "for x in result:\n",
    "    print(x)"
   ]
  },
  {
   "cell_type": "code",
   "execution_count": 18,
   "metadata": {},
   "outputs": [],
   "source": [
    "x = collection.insert_one({'name': 'Tim', 'email': 'tim@abc.com', 'phone': '09114777456', 'age': 30})"
   ]
  },
  {
   "cell_type": "code",
   "execution_count": 19,
   "metadata": {},
   "outputs": [
    {
     "name": "stdout",
     "output_type": "stream",
     "text": [
      "{'_id': ObjectId('5fe8b0f892b98fac06746af6'), 'name': 'Ken', 'email': 'ken@abc.com', 'phone': '0911456852', 'age': 27}\n",
      "{'_id': ObjectId('5fe8b16392b98fac06746b2e'), 'name': 'ken@abc.com', 'phone': '0956874253', 'age': 27}\n",
      "{'_id': ObjectId('5fe8b25e9d4bf5d6ebf3f550'), 'name': 'Tim', 'email': 'tim@abc.com', 'phone': '09114777456', 'age': 30}\n"
     ]
    }
   ],
   "source": [
    "for x in collection.find():\n",
    "    print(x)"
   ]
  },
  {
   "cell_type": "code",
   "execution_count": null,
   "metadata": {},
   "outputs": [],
   "source": []
  }
 ],
 "metadata": {
  "kernelspec": {
   "display_name": "Python 3",
   "language": "python",
   "name": "python3"
  },
  "language_info": {
   "codemirror_mode": {
    "name": "ipython",
    "version": 3
   },
   "file_extension": ".py",
   "mimetype": "text/x-python",
   "name": "python",
   "nbconvert_exporter": "python",
   "pygments_lexer": "ipython3",
   "version": "3.7.4"
  }
 },
 "nbformat": 4,
 "nbformat_minor": 4
}
